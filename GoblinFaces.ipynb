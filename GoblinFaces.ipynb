{
 "cells": [
  {
   "cell_type": "code",
   "execution_count": 1,
   "id": "82dab263-5afb-40ec-9a3f-3319be5f1ca4",
   "metadata": {
    "tags": []
   },
   "outputs": [
    {
     "name": "stdout",
     "output_type": "stream",
     "text": [
      "WARNING:tensorflow:From C:\\Users\\Szirm\\miniconda3\\lib\\site-packages\\keras\\src\\losses.py:2976: The name tf.losses.sparse_softmax_cross_entropy is deprecated. Please use tf.compat.v1.losses.sparse_softmax_cross_entropy instead.\n",
      "\n"
     ]
    }
   ],
   "source": [
    "import os\n",
    "import pandas as pd\n",
    "import tensorflow as tf\n",
    "import numpy as np\n",
    "from tensorflow.keras import layers, models\n",
    "from tensorflow.keras.utils import to_categorical\n",
    "from keras.models import Sequential\n",
    "from keras.layers import Dense\n",
    "from sklearn.model_selection import train_test_split\n",
    "from sklearn.utils import shuffle\n",
    "from sklearn.metrics import accuracy_score\n",
    "from sklearn.metrics import precision_score\n",
    "from sklearn.metrics import recall_score\n",
    "from sklearn.metrics import f1_score\n",
    "from sklearn.metrics import cohen_kappa_score\n",
    "from sklearn.metrics import roc_auc_score\n",
    "from sklearn.metrics import confusion_matrix\n",
    "from sklearn.preprocessing import label_binarize\n",
    "import seaborn as sns\n",
    "import matplotlib.pyplot as plt\n",
    "from  matplotlib.colors import LinearSegmentedColormap"
   ]
  },
  {
   "cell_type": "code",
   "execution_count": 1,
   "id": "63998cb6",
   "metadata": {},
   "outputs": [
    {
     "name": "stdout",
     "output_type": "stream",
     "text": [
      "Defaulting to user installation because normal site-packages is not writeable\n",
      "Requirement already satisfied: pandas in /home/vscode/.local/lib/python3.11/site-packages (2.1.4)\n",
      "Collecting tensorflow\n",
      "  Obtaining dependency information for tensorflow from https://files.pythonhosted.org/packages/ed/1a/b4ab4b8f8b3a41fade4899fd00b5b2d2dad0981f3e1bb10df4c522975fd7/tensorflow-2.15.0.post1-cp311-cp311-manylinux_2_17_x86_64.manylinux2014_x86_64.whl.metadata\n",
      "  Downloading tensorflow-2.15.0.post1-cp311-cp311-manylinux_2_17_x86_64.manylinux2014_x86_64.whl.metadata (4.2 kB)\n",
      "Requirement already satisfied: numpy in /home/vscode/.local/lib/python3.11/site-packages (1.26.2)\n",
      "Collecting scikit-learn\n",
      "  Obtaining dependency information for scikit-learn from https://files.pythonhosted.org/packages/0c/2a/d3ff6091406bc2207e0adb832ebd15e40ac685811c7e2e3b432bfd969b71/scikit_learn-1.3.2-cp311-cp311-manylinux_2_17_x86_64.manylinux2014_x86_64.whl.metadata\n",
      "  Downloading scikit_learn-1.3.2-cp311-cp311-manylinux_2_17_x86_64.manylinux2014_x86_64.whl.metadata (11 kB)\n",
      "Collecting seaborn\n",
      "  Obtaining dependency information for seaborn from https://files.pythonhosted.org/packages/7b/e5/83fcd7e9db036c179e0352bfcd20f81d728197a16f883e7b90307a88e65e/seaborn-0.13.0-py3-none-any.whl.metadata\n",
      "  Downloading seaborn-0.13.0-py3-none-any.whl.metadata (5.3 kB)\n",
      "Collecting matplotlib\n",
      "  Obtaining dependency information for matplotlib from https://files.pythonhosted.org/packages/92/1a/cd3e0c90d1a763ad90073e13b189b4702f11becf4e71dbbad70a7a149811/matplotlib-3.8.2-cp311-cp311-manylinux_2_17_x86_64.manylinux2014_x86_64.whl.metadata\n",
      "  Downloading matplotlib-3.8.2-cp311-cp311-manylinux_2_17_x86_64.manylinux2014_x86_64.whl.metadata (5.8 kB)\n",
      "Requirement already satisfied: python-dateutil>=2.8.2 in /home/vscode/.local/lib/python3.11/site-packages (from pandas) (2.8.2)\n",
      "Requirement already satisfied: pytz>=2020.1 in /home/vscode/.local/lib/python3.11/site-packages (from pandas) (2023.3.post1)\n",
      "Requirement already satisfied: tzdata>=2022.1 in /home/vscode/.local/lib/python3.11/site-packages (from pandas) (2023.3)\n",
      "Collecting absl-py>=1.0.0 (from tensorflow)\n",
      "  Obtaining dependency information for absl-py>=1.0.0 from https://files.pythonhosted.org/packages/01/e4/dc0a1dcc4e74e08d7abedab278c795eef54a224363bb18f5692f416d834f/absl_py-2.0.0-py3-none-any.whl.metadata\n",
      "  Downloading absl_py-2.0.0-py3-none-any.whl.metadata (2.3 kB)\n",
      "Collecting astunparse>=1.6.0 (from tensorflow)\n",
      "  Downloading astunparse-1.6.3-py2.py3-none-any.whl (12 kB)\n",
      "Collecting flatbuffers>=23.5.26 (from tensorflow)\n",
      "  Obtaining dependency information for flatbuffers>=23.5.26 from https://files.pythonhosted.org/packages/6f/12/d5c79ee252793ffe845d58a913197bfa02ae9a0b5c9bc3dc4b58d477b9e7/flatbuffers-23.5.26-py2.py3-none-any.whl.metadata\n",
      "  Downloading flatbuffers-23.5.26-py2.py3-none-any.whl.metadata (850 bytes)\n",
      "Collecting gast!=0.5.0,!=0.5.1,!=0.5.2,>=0.2.1 (from tensorflow)\n",
      "  Downloading gast-0.5.4-py3-none-any.whl (19 kB)\n",
      "Collecting google-pasta>=0.1.1 (from tensorflow)\n",
      "  Downloading google_pasta-0.2.0-py3-none-any.whl (57 kB)\n",
      "\u001b[2K     \u001b[90m━━━━━━━━━━━━━━━━━━━━━━━━━━━━━━━━━━━━━━━━\u001b[0m \u001b[32m57.5/57.5 kB\u001b[0m \u001b[31m2.5 MB/s\u001b[0m eta \u001b[36m0:00:00\u001b[0m\n",
      "\u001b[?25hCollecting h5py>=2.9.0 (from tensorflow)\n",
      "  Obtaining dependency information for h5py>=2.9.0 from https://files.pythonhosted.org/packages/1e/e9/61d7338e503d63d2ce733373fa86256614f579b173cf3d0571d4f46cb561/h5py-3.10.0-cp311-cp311-manylinux_2_17_x86_64.manylinux2014_x86_64.whl.metadata\n",
      "  Downloading h5py-3.10.0-cp311-cp311-manylinux_2_17_x86_64.manylinux2014_x86_64.whl.metadata (2.5 kB)\n",
      "Collecting libclang>=13.0.0 (from tensorflow)\n",
      "  Obtaining dependency information for libclang>=13.0.0 from https://files.pythonhosted.org/packages/ea/df/55525e489c43f9dbb6c8ea27d8a567b3dcd18a22f3c45483055f5ca6611d/libclang-16.0.6-py2.py3-none-manylinux2010_x86_64.whl.metadata\n",
      "  Downloading libclang-16.0.6-py2.py3-none-manylinux2010_x86_64.whl.metadata (5.2 kB)\n",
      "Collecting ml-dtypes~=0.2.0 (from tensorflow)\n",
      "  Obtaining dependency information for ml-dtypes~=0.2.0 from https://files.pythonhosted.org/packages/87/91/d57c2d22e4801edeb7f3e7939214c0ea8a28c6e16f85208c2df2145e0213/ml_dtypes-0.2.0-cp311-cp311-manylinux_2_17_x86_64.manylinux2014_x86_64.whl.metadata\n",
      "  Downloading ml_dtypes-0.2.0-cp311-cp311-manylinux_2_17_x86_64.manylinux2014_x86_64.whl.metadata (20 kB)\n",
      "Collecting opt-einsum>=2.3.2 (from tensorflow)\n",
      "  Downloading opt_einsum-3.3.0-py3-none-any.whl (65 kB)\n",
      "\u001b[2K     \u001b[90m━━━━━━━━━━━━━━━━━━━━━━━━━━━━━━━━━━━━━━━━\u001b[0m \u001b[32m65.5/65.5 kB\u001b[0m \u001b[31m3.2 MB/s\u001b[0m eta \u001b[36m0:00:00\u001b[0m\n",
      "\u001b[?25hRequirement already satisfied: packaging in /home/vscode/.local/lib/python3.11/site-packages (from tensorflow) (23.2)\n",
      "Requirement already satisfied: protobuf!=4.21.0,!=4.21.1,!=4.21.2,!=4.21.3,!=4.21.4,!=4.21.5,<5.0.0dev,>=3.20.3 in /home/vscode/.local/lib/python3.11/site-packages (from tensorflow) (4.25.1)\n",
      "Requirement already satisfied: setuptools in /usr/local/lib/python3.11/site-packages (from tensorflow) (69.0.2)\n",
      "Requirement already satisfied: six>=1.12.0 in /home/vscode/.local/lib/python3.11/site-packages (from tensorflow) (1.16.0)\n",
      "Collecting termcolor>=1.1.0 (from tensorflow)\n",
      "  Obtaining dependency information for termcolor>=1.1.0 from https://files.pythonhosted.org/packages/d9/5f/8c716e47b3a50cbd7c146f45881e11d9414def768b7cd9c5e6650ec2a80a/termcolor-2.4.0-py3-none-any.whl.metadata\n",
      "  Downloading termcolor-2.4.0-py3-none-any.whl.metadata (6.1 kB)\n",
      "Requirement already satisfied: typing-extensions>=3.6.6 in /home/vscode/.local/lib/python3.11/site-packages (from tensorflow) (4.9.0)\n",
      "Collecting wrapt<1.15,>=1.11.0 (from tensorflow)\n",
      "  Obtaining dependency information for wrapt<1.15,>=1.11.0 from https://files.pythonhosted.org/packages/7f/1b/e0439eec0db6520968c751bc7e12480bb80bb8d939190e0e55ed762f3c7a/wrapt-1.14.1-cp311-cp311-manylinux_2_5_x86_64.manylinux1_x86_64.manylinux_2_17_x86_64.manylinux2014_x86_64.whl.metadata\n",
      "  Downloading wrapt-1.14.1-cp311-cp311-manylinux_2_5_x86_64.manylinux1_x86_64.manylinux_2_17_x86_64.manylinux2014_x86_64.whl.metadata (6.7 kB)\n",
      "Collecting tensorflow-io-gcs-filesystem>=0.23.1 (from tensorflow)\n",
      "  Obtaining dependency information for tensorflow-io-gcs-filesystem>=0.23.1 from https://files.pythonhosted.org/packages/4c/64/245746084cdd5fafa680a6e7effeecf87abeeac2796decfa835a99b397c7/tensorflow_io_gcs_filesystem-0.34.0-cp311-cp311-manylinux_2_12_x86_64.manylinux2010_x86_64.whl.metadata\n",
      "  Downloading tensorflow_io_gcs_filesystem-0.34.0-cp311-cp311-manylinux_2_12_x86_64.manylinux2010_x86_64.whl.metadata (14 kB)\n",
      "Collecting grpcio<2.0,>=1.24.3 (from tensorflow)\n",
      "  Obtaining dependency information for grpcio<2.0,>=1.24.3 from https://files.pythonhosted.org/packages/de/01/a8d9bcc59526f22b8fef29c234cc63434f05dae1154d979222c02b31a557/grpcio-1.60.0-cp311-cp311-manylinux_2_17_x86_64.manylinux2014_x86_64.whl.metadata\n",
      "  Downloading grpcio-1.60.0-cp311-cp311-manylinux_2_17_x86_64.manylinux2014_x86_64.whl.metadata (4.0 kB)\n",
      "Collecting tensorboard<2.16,>=2.15 (from tensorflow)\n",
      "  Obtaining dependency information for tensorboard<2.16,>=2.15 from https://files.pythonhosted.org/packages/6e/0c/1059a6682cf2cc1fcc0d5327837b5672fe4f5574255fa5430d0a8ceb75e9/tensorboard-2.15.1-py3-none-any.whl.metadata\n",
      "  Downloading tensorboard-2.15.1-py3-none-any.whl.metadata (1.7 kB)\n",
      "Collecting tensorflow-estimator<2.16,>=2.15.0 (from tensorflow)\n",
      "  Obtaining dependency information for tensorflow-estimator<2.16,>=2.15.0 from https://files.pythonhosted.org/packages/b6/c8/2f823c8958d5342eafc6dd3e922f0cc4fcf8c2e0460284cc462dae3b60a0/tensorflow_estimator-2.15.0-py2.py3-none-any.whl.metadata\n",
      "  Downloading tensorflow_estimator-2.15.0-py2.py3-none-any.whl.metadata (1.3 kB)\n",
      "Collecting keras<2.16,>=2.15.0 (from tensorflow)\n",
      "  Obtaining dependency information for keras<2.16,>=2.15.0 from https://files.pythonhosted.org/packages/fc/a7/0d4490de967a67f68a538cc9cdb259bff971c4b5787f7765dc7c8f118f71/keras-2.15.0-py3-none-any.whl.metadata\n",
      "  Downloading keras-2.15.0-py3-none-any.whl.metadata (2.4 kB)\n",
      "Collecting scipy>=1.5.0 (from scikit-learn)\n",
      "  Obtaining dependency information for scipy>=1.5.0 from https://files.pythonhosted.org/packages/6b/d4/d62ce38ba00dc67d7ec4ec5cc19d36958d8ed70e63778715ad626bcbc796/scipy-1.11.4-cp311-cp311-manylinux_2_17_x86_64.manylinux2014_x86_64.whl.metadata\n",
      "  Downloading scipy-1.11.4-cp311-cp311-manylinux_2_17_x86_64.manylinux2014_x86_64.whl.metadata (60 kB)\n",
      "\u001b[2K     \u001b[90m━━━━━━━━━━━━━━━━━━━━━━━━━━━━━━━━━━━━━━━━\u001b[0m \u001b[32m60.4/60.4 kB\u001b[0m \u001b[31m2.5 MB/s\u001b[0m eta \u001b[36m0:00:00\u001b[0m\n",
      "\u001b[?25hCollecting joblib>=1.1.1 (from scikit-learn)\n",
      "  Obtaining dependency information for joblib>=1.1.1 from https://files.pythonhosted.org/packages/10/40/d551139c85db202f1f384ba8bcf96aca2f329440a844f924c8a0040b6d02/joblib-1.3.2-py3-none-any.whl.metadata\n",
      "  Downloading joblib-1.3.2-py3-none-any.whl.metadata (5.4 kB)\n",
      "Collecting threadpoolctl>=2.0.0 (from scikit-learn)\n",
      "  Obtaining dependency information for threadpoolctl>=2.0.0 from https://files.pythonhosted.org/packages/81/12/fd4dea011af9d69e1cad05c75f3f7202cdcbeac9b712eea58ca779a72865/threadpoolctl-3.2.0-py3-none-any.whl.metadata\n",
      "  Downloading threadpoolctl-3.2.0-py3-none-any.whl.metadata (10.0 kB)\n",
      "Collecting contourpy>=1.0.1 (from matplotlib)\n",
      "  Obtaining dependency information for contourpy>=1.0.1 from https://files.pythonhosted.org/packages/e2/83/29a63bbc72839cc6b24b5a0e3d004d4ed4e8439f26460ad9a34e39251904/contourpy-1.2.0-cp311-cp311-manylinux_2_17_x86_64.manylinux2014_x86_64.whl.metadata\n",
      "  Downloading contourpy-1.2.0-cp311-cp311-manylinux_2_17_x86_64.manylinux2014_x86_64.whl.metadata (5.8 kB)\n",
      "Collecting cycler>=0.10 (from matplotlib)\n",
      "  Obtaining dependency information for cycler>=0.10 from https://files.pythonhosted.org/packages/e7/05/c19819d5e3d95294a6f5947fb9b9629efb316b96de511b418c53d245aae6/cycler-0.12.1-py3-none-any.whl.metadata\n",
      "  Downloading cycler-0.12.1-py3-none-any.whl.metadata (3.8 kB)\n",
      "Collecting fonttools>=4.22.0 (from matplotlib)\n",
      "  Obtaining dependency information for fonttools>=4.22.0 from https://files.pythonhosted.org/packages/46/01/4d8c7ac72133a679ec6cedc9cef97d47d02411b431ba6ef014e563f7989c/fonttools-4.46.0-cp311-cp311-manylinux_2_17_x86_64.manylinux2014_x86_64.whl.metadata\n",
      "  Downloading fonttools-4.46.0-cp311-cp311-manylinux_2_17_x86_64.manylinux2014_x86_64.whl.metadata (156 kB)\n",
      "\u001b[2K     \u001b[90m━━━━━━━━━━━━━━━━━━━━━━━━━━━━━━━━━━━━━━━\u001b[0m \u001b[32m156.2/156.2 kB\u001b[0m \u001b[31m7.4 MB/s\u001b[0m eta \u001b[36m0:00:00\u001b[0m\n",
      "\u001b[?25hCollecting kiwisolver>=1.3.1 (from matplotlib)\n",
      "  Obtaining dependency information for kiwisolver>=1.3.1 from https://files.pythonhosted.org/packages/17/ba/17a706b232308e65f57deeccae503c268292e6a091313f6ce833a23093ea/kiwisolver-1.4.5-cp311-cp311-manylinux_2_17_x86_64.manylinux2014_x86_64.whl.metadata\n",
      "  Downloading kiwisolver-1.4.5-cp311-cp311-manylinux_2_17_x86_64.manylinux2014_x86_64.whl.metadata (6.4 kB)\n",
      "Requirement already satisfied: pillow>=8 in /home/vscode/.local/lib/python3.11/site-packages (from matplotlib) (10.1.0)\n",
      "Collecting pyparsing>=2.3.1 (from matplotlib)\n",
      "  Obtaining dependency information for pyparsing>=2.3.1 from https://files.pythonhosted.org/packages/39/92/8486ede85fcc088f1b3dba4ce92dd29d126fd96b0008ea213167940a2475/pyparsing-3.1.1-py3-none-any.whl.metadata\n",
      "  Downloading pyparsing-3.1.1-py3-none-any.whl.metadata (5.1 kB)\n",
      "Requirement already satisfied: wheel<1.0,>=0.23.0 in /usr/local/lib/python3.11/site-packages (from astunparse>=1.6.0->tensorflow) (0.42.0)\n",
      "Collecting google-auth<3,>=1.6.3 (from tensorboard<2.16,>=2.15->tensorflow)\n",
      "  Obtaining dependency information for google-auth<3,>=1.6.3 from https://files.pythonhosted.org/packages/f4/d2/9f6f3b9c0fd486617816cff42e856afea079d0bad99f0e60dc186c76b881/google_auth-2.25.2-py2.py3-none-any.whl.metadata\n",
      "  Downloading google_auth-2.25.2-py2.py3-none-any.whl.metadata (4.7 kB)\n",
      "Collecting google-auth-oauthlib<2,>=0.5 (from tensorboard<2.16,>=2.15->tensorflow)\n",
      "  Obtaining dependency information for google-auth-oauthlib<2,>=0.5 from https://files.pythonhosted.org/packages/71/bf/9e125754d1adb3bc4bd206c4e5df756513b1d23675ac06caa471278d1f3f/google_auth_oauthlib-1.2.0-py2.py3-none-any.whl.metadata\n",
      "  Downloading google_auth_oauthlib-1.2.0-py2.py3-none-any.whl.metadata (2.7 kB)\n",
      "Collecting markdown>=2.6.8 (from tensorboard<2.16,>=2.15->tensorflow)\n",
      "  Obtaining dependency information for markdown>=2.6.8 from https://files.pythonhosted.org/packages/70/58/2c5a654173937d9f540a4971c569b44dcd55e5424a484d954cdaeebcf79c/Markdown-3.5.1-py3-none-any.whl.metadata\n",
      "  Downloading Markdown-3.5.1-py3-none-any.whl.metadata (7.1 kB)\n",
      "Collecting protobuf!=4.21.0,!=4.21.1,!=4.21.2,!=4.21.3,!=4.21.4,!=4.21.5,<5.0.0dev,>=3.20.3 (from tensorflow)\n",
      "  Obtaining dependency information for protobuf!=4.21.0,!=4.21.1,!=4.21.2,!=4.21.3,!=4.21.4,!=4.21.5,<5.0.0dev,>=3.20.3 from https://files.pythonhosted.org/packages/01/cb/445b3e465abdb8042a41957dc8f60c54620dc7540dbcf9b458a921531ca2/protobuf-4.23.4-cp37-abi3-manylinux2014_x86_64.whl.metadata\n",
      "  Downloading protobuf-4.23.4-cp37-abi3-manylinux2014_x86_64.whl.metadata (540 bytes)\n",
      "Requirement already satisfied: requests<3,>=2.21.0 in /home/vscode/.local/lib/python3.11/site-packages (from tensorboard<2.16,>=2.15->tensorflow) (2.31.0)\n",
      "Collecting tensorboard-data-server<0.8.0,>=0.7.0 (from tensorboard<2.16,>=2.15->tensorflow)\n",
      "  Obtaining dependency information for tensorboard-data-server<0.8.0,>=0.7.0 from https://files.pythonhosted.org/packages/73/c6/825dab04195756cf8ff2e12698f22513b3db2f64925bdd41671bfb33aaa5/tensorboard_data_server-0.7.2-py3-none-manylinux_2_31_x86_64.whl.metadata\n",
      "  Downloading tensorboard_data_server-0.7.2-py3-none-manylinux_2_31_x86_64.whl.metadata (1.1 kB)\n",
      "Collecting werkzeug>=1.0.1 (from tensorboard<2.16,>=2.15->tensorflow)\n",
      "  Obtaining dependency information for werkzeug>=1.0.1 from https://files.pythonhosted.org/packages/c3/fc/254c3e9b5feb89ff5b9076a23218dafbc99c96ac5941e900b71206e6313b/werkzeug-3.0.1-py3-none-any.whl.metadata\n",
      "  Downloading werkzeug-3.0.1-py3-none-any.whl.metadata (4.1 kB)\n",
      "Requirement already satisfied: cachetools<6.0,>=2.0.0 in /home/vscode/.local/lib/python3.11/site-packages (from google-auth<3,>=1.6.3->tensorboard<2.16,>=2.15->tensorflow) (5.3.2)\n",
      "Collecting pyasn1-modules>=0.2.1 (from google-auth<3,>=1.6.3->tensorboard<2.16,>=2.15->tensorflow)\n",
      "  Downloading pyasn1_modules-0.3.0-py2.py3-none-any.whl (181 kB)\n",
      "\u001b[2K     \u001b[90m━━━━━━━━━━━━━━━━━━━━━━━━━━━━━━━━━━━━━━━\u001b[0m \u001b[32m181.3/181.3 kB\u001b[0m \u001b[31m8.4 MB/s\u001b[0m eta \u001b[36m0:00:00\u001b[0m\n",
      "\u001b[?25hCollecting rsa<5,>=3.1.4 (from google-auth<3,>=1.6.3->tensorboard<2.16,>=2.15->tensorflow)\n",
      "  Downloading rsa-4.9-py3-none-any.whl (34 kB)\n",
      "Collecting requests-oauthlib>=0.7.0 (from google-auth-oauthlib<2,>=0.5->tensorboard<2.16,>=2.15->tensorflow)\n",
      "  Downloading requests_oauthlib-1.3.1-py2.py3-none-any.whl (23 kB)\n",
      "Requirement already satisfied: charset-normalizer<4,>=2 in /home/vscode/.local/lib/python3.11/site-packages (from requests<3,>=2.21.0->tensorboard<2.16,>=2.15->tensorflow) (3.3.2)\n",
      "Requirement already satisfied: idna<4,>=2.5 in /home/vscode/.local/lib/python3.11/site-packages (from requests<3,>=2.21.0->tensorboard<2.16,>=2.15->tensorflow) (3.6)\n",
      "Requirement already satisfied: urllib3<3,>=1.21.1 in /home/vscode/.local/lib/python3.11/site-packages (from requests<3,>=2.21.0->tensorboard<2.16,>=2.15->tensorflow) (2.1.0)\n",
      "Requirement already satisfied: certifi>=2017.4.17 in /home/vscode/.local/lib/python3.11/site-packages (from requests<3,>=2.21.0->tensorboard<2.16,>=2.15->tensorflow) (2023.11.17)\n",
      "Requirement already satisfied: MarkupSafe>=2.1.1 in /home/vscode/.local/lib/python3.11/site-packages (from werkzeug>=1.0.1->tensorboard<2.16,>=2.15->tensorflow) (2.1.3)\n",
      "Collecting pyasn1<0.6.0,>=0.4.6 (from pyasn1-modules>=0.2.1->google-auth<3,>=1.6.3->tensorboard<2.16,>=2.15->tensorflow)\n",
      "  Obtaining dependency information for pyasn1<0.6.0,>=0.4.6 from https://files.pythonhosted.org/packages/d1/75/4686d2872bf2fc0b37917cbc8bbf0dd3a5cdb0990799be1b9cbf1e1eb733/pyasn1-0.5.1-py2.py3-none-any.whl.metadata\n",
      "  Downloading pyasn1-0.5.1-py2.py3-none-any.whl.metadata (8.6 kB)\n",
      "Collecting oauthlib>=3.0.0 (from requests-oauthlib>=0.7.0->google-auth-oauthlib<2,>=0.5->tensorboard<2.16,>=2.15->tensorflow)\n",
      "  Downloading oauthlib-3.2.2-py3-none-any.whl (151 kB)\n",
      "\u001b[2K     \u001b[90m━━━━━━━━━━━━━━━━━━━━━━━━━━━━━━━━━━━━━━━\u001b[0m \u001b[32m151.7/151.7 kB\u001b[0m \u001b[31m7.3 MB/s\u001b[0m eta \u001b[36m0:00:00\u001b[0m\n",
      "\u001b[?25hDownloading tensorflow-2.15.0.post1-cp311-cp311-manylinux_2_17_x86_64.manylinux2014_x86_64.whl (475.3 MB)\n",
      "\u001b[2K   \u001b[90m━━━━━━━━━━━━━━━━━━━━━━━━━━━━━━━━━━━━━━━━\u001b[0m \u001b[32m475.3/475.3 MB\u001b[0m \u001b[31m2.8 MB/s\u001b[0m eta \u001b[36m0:00:00\u001b[0m:00:01\u001b[0m00:01\u001b[0m\n",
      "\u001b[?25hDownloading scikit_learn-1.3.2-cp311-cp311-manylinux_2_17_x86_64.manylinux2014_x86_64.whl (10.9 MB)\n",
      "\u001b[2K   \u001b[90m━━━━━━━━━━━━━━━━━━━━━━━━━━━━━━━━━━━━━━━━\u001b[0m \u001b[32m10.9/10.9 MB\u001b[0m \u001b[31m46.3 MB/s\u001b[0m eta \u001b[36m0:00:00\u001b[0m:00:01\u001b[0m:01\u001b[0m\n",
      "\u001b[?25hDownloading seaborn-0.13.0-py3-none-any.whl (294 kB)\n",
      "\u001b[2K   \u001b[90m━━━━━━━━━━━━━━━━━━━━━━━━━━━━━━━━━━━━━━━━\u001b[0m \u001b[32m294.6/294.6 kB\u001b[0m \u001b[31m13.3 MB/s\u001b[0m eta \u001b[36m0:00:00\u001b[0m\n",
      "\u001b[?25hDownloading matplotlib-3.8.2-cp311-cp311-manylinux_2_17_x86_64.manylinux2014_x86_64.whl (11.6 MB)\n",
      "\u001b[2K   \u001b[90m━━━━━━━━━━━━━━━━━━━━━━━━━━━━━━━━━━━━━━━━\u001b[0m \u001b[32m11.6/11.6 MB\u001b[0m \u001b[31m50.4 MB/s\u001b[0m eta \u001b[36m0:00:00\u001b[0m:00:01\u001b[0m0:01\u001b[0m\n",
      "\u001b[?25hDownloading absl_py-2.0.0-py3-none-any.whl (130 kB)\n",
      "\u001b[2K   \u001b[90m━━━━━━━━━━━━━━━━━━━━━━━━━━━━━━━━━━━━━━━━\u001b[0m \u001b[32m130.2/130.2 kB\u001b[0m \u001b[31m6.0 MB/s\u001b[0m eta \u001b[36m0:00:00\u001b[0m\n",
      "\u001b[?25hDownloading contourpy-1.2.0-cp311-cp311-manylinux_2_17_x86_64.manylinux2014_x86_64.whl (313 kB)\n",
      "\u001b[2K   \u001b[90m━━━━━━━━━━━━━━━━━━━━━━━━━━━━━━━━━━━━━━━━\u001b[0m \u001b[32m313.4/313.4 kB\u001b[0m \u001b[31m13.6 MB/s\u001b[0m eta \u001b[36m0:00:00\u001b[0m\n",
      "\u001b[?25hDownloading cycler-0.12.1-py3-none-any.whl (8.3 kB)\n",
      "Downloading flatbuffers-23.5.26-py2.py3-none-any.whl (26 kB)\n",
      "Downloading fonttools-4.46.0-cp311-cp311-manylinux_2_17_x86_64.manylinux2014_x86_64.whl (4.9 MB)\n",
      "\u001b[2K   \u001b[90m━━━━━━━━━━━━━━━━━━━━━━━━━━━━━━━━━━━━━━━━\u001b[0m \u001b[32m4.9/4.9 MB\u001b[0m \u001b[31m50.5 MB/s\u001b[0m eta \u001b[36m0:00:00\u001b[0m:00:01\u001b[0m\n",
      "\u001b[?25hDownloading grpcio-1.60.0-cp311-cp311-manylinux_2_17_x86_64.manylinux2014_x86_64.whl (5.4 MB)\n",
      "\u001b[2K   \u001b[90m━━━━━━━━━━━━━━━━━━━━━━━━━━━━━━━━━━━━━━━━\u001b[0m \u001b[32m5.4/5.4 MB\u001b[0m \u001b[31m48.9 MB/s\u001b[0m eta \u001b[36m0:00:00\u001b[0m:00:01\u001b[0m00:01\u001b[0m\n",
      "\u001b[?25hDownloading h5py-3.10.0-cp311-cp311-manylinux_2_17_x86_64.manylinux2014_x86_64.whl (4.8 MB)\n",
      "\u001b[2K   \u001b[90m━━━━━━━━━━━━━━━━━━━━━━━━━━━━━━━━━━━━━━━━\u001b[0m \u001b[32m4.8/4.8 MB\u001b[0m \u001b[31m51.4 MB/s\u001b[0m eta \u001b[36m0:00:00\u001b[0m:00:01\u001b[0m\n",
      "\u001b[?25hDownloading joblib-1.3.2-py3-none-any.whl (302 kB)\n",
      "\u001b[2K   \u001b[90m━━━━━━━━━━━━━━━━━━━━━━━━━━━━━━━━━━━━━━━━\u001b[0m \u001b[32m302.2/302.2 kB\u001b[0m \u001b[31m13.7 MB/s\u001b[0m eta \u001b[36m0:00:00\u001b[0m\n",
      "\u001b[?25hDownloading keras-2.15.0-py3-none-any.whl (1.7 MB)\n",
      "\u001b[2K   \u001b[90m━━━━━━━━━━━━━━━━━━━━━━━━━━━━━━━━━━━━━━━━\u001b[0m \u001b[32m1.7/1.7 MB\u001b[0m \u001b[31m33.1 MB/s\u001b[0m eta \u001b[36m0:00:00\u001b[0m:00:01\u001b[0m\n",
      "\u001b[?25hDownloading kiwisolver-1.4.5-cp311-cp311-manylinux_2_17_x86_64.manylinux2014_x86_64.whl (1.4 MB)\n",
      "\u001b[2K   \u001b[90m━━━━━━━━━━━━━━━━━━━━━━━━━━━━━━━━━━━━━━━━\u001b[0m \u001b[32m1.4/1.4 MB\u001b[0m \u001b[31m32.9 MB/s\u001b[0m eta \u001b[36m0:00:00\u001b[0m:00:01\u001b[0m\n",
      "\u001b[?25hDownloading libclang-16.0.6-py2.py3-none-manylinux2010_x86_64.whl (22.9 MB)\n",
      "\u001b[2K   \u001b[90m━━━━━━━━━━━━━━━━━━━━━━━━━━━━━━━━━━━━━━━━\u001b[0m \u001b[32m22.9/22.9 MB\u001b[0m \u001b[31m32.1 MB/s\u001b[0m eta \u001b[36m0:00:00\u001b[0m:00:01\u001b[0m0:01\u001b[0mm\n",
      "\u001b[?25hDownloading ml_dtypes-0.2.0-cp311-cp311-manylinux_2_17_x86_64.manylinux2014_x86_64.whl (1.0 MB)\n",
      "\u001b[2K   \u001b[90m━━━━━━━━━━━━━━━━━━━━━━━━━━━━━━━━━━━━━━━━\u001b[0m \u001b[32m1.0/1.0 MB\u001b[0m \u001b[31m28.4 MB/s\u001b[0m eta \u001b[36m0:00:00\u001b[0m:00:01\u001b[0m\n",
      "\u001b[?25hDownloading pyparsing-3.1.1-py3-none-any.whl (103 kB)\n",
      "\u001b[2K   \u001b[90m━━━━━━━━━━━━━━━━━━━━━━━━━━━━━━━━━━━━━━━━\u001b[0m \u001b[32m103.1/103.1 kB\u001b[0m \u001b[31m5.0 MB/s\u001b[0m eta \u001b[36m0:00:00\u001b[0m\n",
      "\u001b[?25hDownloading scipy-1.11.4-cp311-cp311-manylinux_2_17_x86_64.manylinux2014_x86_64.whl (36.4 MB)\n",
      "\u001b[2K   \u001b[90m━━━━━━━━━━━━━━━━━━━━━━━━━━━━━━━━━━━━━━━━\u001b[0m \u001b[32m36.4/36.4 MB\u001b[0m \u001b[31m24.5 MB/s\u001b[0m eta \u001b[36m0:00:00\u001b[0m:00:01\u001b[0m00:01\u001b[0m\n",
      "\u001b[?25hDownloading tensorboard-2.15.1-py3-none-any.whl (5.5 MB)\n",
      "\u001b[2K   \u001b[90m━━━━━━━━━━━━━━━━━━━━━━━━━━━━━━━━━━━━━━━━\u001b[0m \u001b[32m5.5/5.5 MB\u001b[0m \u001b[31m51.6 MB/s\u001b[0m eta \u001b[36m0:00:00\u001b[0m:00:01\u001b[0m00:01\u001b[0m\n",
      "\u001b[?25hDownloading protobuf-4.23.4-cp37-abi3-manylinux2014_x86_64.whl (304 kB)\n",
      "\u001b[2K   \u001b[90m━━━━━━━━━━━━━━━━━━━━━━━━━━━━━━━━━━━━━━━━\u001b[0m \u001b[32m304.5/304.5 kB\u001b[0m \u001b[31m13.1 MB/s\u001b[0m eta \u001b[36m0:00:00\u001b[0m\n",
      "\u001b[?25hDownloading tensorflow_estimator-2.15.0-py2.py3-none-any.whl (441 kB)\n",
      "\u001b[2K   \u001b[90m━━━━━━━━━━━━━━━━━━━━━━━━━━━━━━━━━━━━━━━━\u001b[0m \u001b[32m442.0/442.0 kB\u001b[0m \u001b[31m18.0 MB/s\u001b[0m eta \u001b[36m0:00:00\u001b[0m\n",
      "\u001b[?25hDownloading tensorflow_io_gcs_filesystem-0.34.0-cp311-cp311-manylinux_2_12_x86_64.manylinux2010_x86_64.whl (2.4 MB)\n",
      "\u001b[2K   \u001b[90m━━━━━━━━━━━━━━━━━━━━━━━━━━━━━━━━━━━━━━━━\u001b[0m \u001b[32m2.4/2.4 MB\u001b[0m \u001b[31m41.6 MB/s\u001b[0m eta \u001b[36m0:00:00\u001b[0m:00:01\u001b[0m\n",
      "\u001b[?25hDownloading termcolor-2.4.0-py3-none-any.whl (7.7 kB)\n",
      "Downloading threadpoolctl-3.2.0-py3-none-any.whl (15 kB)\n",
      "Downloading wrapt-1.14.1-cp311-cp311-manylinux_2_5_x86_64.manylinux1_x86_64.manylinux_2_17_x86_64.manylinux2014_x86_64.whl (78 kB)\n",
      "\u001b[2K   \u001b[90m━━━━━━━━━━━━━━━━━━━━━━━━━━━━━━━━━━━━━━━━\u001b[0m \u001b[32m78.4/78.4 kB\u001b[0m \u001b[31m3.8 MB/s\u001b[0m eta \u001b[36m0:00:00\u001b[0m\n",
      "\u001b[?25hDownloading google_auth-2.25.2-py2.py3-none-any.whl (184 kB)\n",
      "\u001b[2K   \u001b[90m━━━━━━━━━━━━━━━━━━━━━━━━━━━━━━━━━━━━━━━━\u001b[0m \u001b[32m184.2/184.2 kB\u001b[0m \u001b[31m8.6 MB/s\u001b[0m eta \u001b[36m0:00:00\u001b[0m\n",
      "\u001b[?25hDownloading google_auth_oauthlib-1.2.0-py2.py3-none-any.whl (24 kB)\n",
      "Downloading Markdown-3.5.1-py3-none-any.whl (102 kB)\n",
      "\u001b[2K   \u001b[90m━━━━━━━━━━━━━━━━━━━━━━━━━━━━━━━━━━━━━━━━\u001b[0m \u001b[32m102.2/102.2 kB\u001b[0m \u001b[31m4.9 MB/s\u001b[0m eta \u001b[36m0:00:00\u001b[0m\n",
      "\u001b[?25hDownloading tensorboard_data_server-0.7.2-py3-none-manylinux_2_31_x86_64.whl (6.6 MB)\n",
      "\u001b[2K   \u001b[90m━━━━━━━━━━━━━━━━━━━━━━━━━━━━━━━━━━━━━━━━\u001b[0m \u001b[32m6.6/6.6 MB\u001b[0m \u001b[31m53.7 MB/s\u001b[0m eta \u001b[36m0:00:00\u001b[0m:00:01\u001b[0m00:01\u001b[0m\n",
      "\u001b[?25hDownloading werkzeug-3.0.1-py3-none-any.whl (226 kB)\n",
      "\u001b[2K   \u001b[90m━━━━━━━━━━━━━━━━━━━━━━━━━━━━━━━━━━━━━━━━\u001b[0m \u001b[32m226.7/226.7 kB\u001b[0m \u001b[31m10.8 MB/s\u001b[0m eta \u001b[36m0:00:00\u001b[0m\n",
      "\u001b[?25hDownloading pyasn1-0.5.1-py2.py3-none-any.whl (84 kB)\n",
      "\u001b[2K   \u001b[90m━━━━━━━━━━━━━━━━━━━━━━━━━━━━━━━━━━━━━━━━\u001b[0m \u001b[32m84.9/84.9 kB\u001b[0m \u001b[31m2.8 MB/s\u001b[0m eta \u001b[36m0:00:00\u001b[0m\n",
      "\u001b[?25hInstalling collected packages: libclang, flatbuffers, wrapt, werkzeug, threadpoolctl, termcolor, tensorflow-io-gcs-filesystem, tensorflow-estimator, tensorboard-data-server, scipy, pyparsing, pyasn1, protobuf, opt-einsum, oauthlib, ml-dtypes, markdown, kiwisolver, keras, joblib, h5py, grpcio, google-pasta, gast, fonttools, cycler, contourpy, astunparse, absl-py, scikit-learn, rsa, requests-oauthlib, pyasn1-modules, matplotlib, seaborn, google-auth, google-auth-oauthlib, tensorboard, tensorflow\n",
      "  Attempting uninstall: protobuf\n",
      "    Found existing installation: protobuf 4.25.1\n",
      "    Uninstalling protobuf-4.25.1:\n",
      "      Successfully uninstalled protobuf-4.25.1\n",
      "Successfully installed absl-py-2.0.0 astunparse-1.6.3 contourpy-1.2.0 cycler-0.12.1 flatbuffers-23.5.26 fonttools-4.46.0 gast-0.5.4 google-auth-2.25.2 google-auth-oauthlib-1.2.0 google-pasta-0.2.0 grpcio-1.60.0 h5py-3.10.0 joblib-1.3.2 keras-2.15.0 kiwisolver-1.4.5 libclang-16.0.6 markdown-3.5.1 matplotlib-3.8.2 ml-dtypes-0.2.0 oauthlib-3.2.2 opt-einsum-3.3.0 protobuf-4.23.4 pyasn1-0.5.1 pyasn1-modules-0.3.0 pyparsing-3.1.1 requests-oauthlib-1.3.1 rsa-4.9 scikit-learn-1.3.2 scipy-1.11.4 seaborn-0.13.0 tensorboard-2.15.1 tensorboard-data-server-0.7.2 tensorflow-2.15.0.post1 tensorflow-estimator-2.15.0 tensorflow-io-gcs-filesystem-0.34.0 termcolor-2.4.0 threadpoolctl-3.2.0 werkzeug-3.0.1 wrapt-1.14.1\n",
      "\n",
      "\u001b[1m[\u001b[0m\u001b[34;49mnotice\u001b[0m\u001b[1;39;49m]\u001b[0m\u001b[39;49m A new release of pip is available: \u001b[0m\u001b[31;49m23.2.1\u001b[0m\u001b[39;49m -> \u001b[0m\u001b[32;49m23.3.1\u001b[0m\n",
      "\u001b[1m[\u001b[0m\u001b[34;49mnotice\u001b[0m\u001b[1;39;49m]\u001b[0m\u001b[39;49m To update, run: \u001b[0m\u001b[32;49mpip install --upgrade pip\u001b[0m\n",
      "Note: you may need to restart the kernel to use updated packages.\n"
     ]
    }
   ],
   "source": []
  },
  {
   "cell_type": "code",
   "execution_count": 2,
   "id": "3b65e9f5-5060-4a16-8409-32685dbd3568",
   "metadata": {
    "tags": []
   },
   "outputs": [],
   "source": [
    "notebookdir=os.getcwd()\n",
    "image_folder = \"C:\\\\Users\\\\Szirm\\\\miniconda3\\\\Scripts\\\\Homework\\\\Images\"\n",
    "folder_path=r\"C:\\Users\\Szirm\\Downloads\\archive\\images\\gob64\"\n",
    "file_path = 'artbreederGoblin.csv'"
   ]
  },
  {
   "cell_type": "code",
   "execution_count": 3,
   "id": "6414a38c-ac45-4340-a4a6-2170c67e5682",
   "metadata": {
    "tags": []
   },
   "outputs": [
    {
     "name": "stdout",
     "output_type": "stream",
     "text": [
      "Number of filenames: 750\n",
      "Number of filenames: 750\n",
      "Number of Labels: 750\n"
     ]
    }
   ],
   "source": [
    "file_names = os.listdir(folder_path)\n",
    "print(f\"Number of filenames: {len(file_names)}\")\n",
    "id_column=\"idArtBreeder\"\n",
    "label_column = 'gender'\n",
    "df = pd.read_csv(file_path)\n",
    "ids=df[id_column].apply(lambda x: os.path.join(folder_path, x + '-64.jpg'))\n",
    "# Assuming you have a list of file paths and corresponding labels\n",
    "# Get a list of all files in the image folder\n",
    "\n",
    "\n",
    "\n",
    "print(f\"Number of filenames: {len(file_names)}\")\n",
    "\n",
    "\n",
    "# List of file paths to your images\n",
    "labels =  df[label_column] # List of corresponding labels (1 for male, 5 for female others in between)\n",
    "\n",
    "print(f\"Number of Labels: {len(labels)}\")\n",
    "labels = to_categorical(labels-1, num_classes=5)"
   ]
  },
  {
   "cell_type": "code",
   "execution_count": 4,
   "id": "d8d5cf27-5140-4457-afd7-bc656c8514b6",
   "metadata": {
    "tags": []
   },
   "outputs": [],
   "source": [
    "\n",
    "# Shuffle the data\n",
    "ids, labels = shuffle(ids, labels, random_state=42)\n",
    "\n",
    "# Split the dataset into training and testing sets\n",
    "train_files, test_files, train_labels, test_labels = train_test_split(\n",
    "    ids, labels, test_size=0.2, random_state=42\n",
    ")\n"
   ]
  },
  {
   "cell_type": "code",
   "execution_count": 5,
   "id": "d765b0ee-7506-4da2-8209-92e01927b3c5",
   "metadata": {
    "tags": []
   },
   "outputs": [],
   "source": [
    "# Data preprocessing function\n",
    "def preprocess_image(file_path, label):\n",
    "    # Load and preprocess the image\n",
    "    img = tf.io.read_file(file_path)\n",
    "    img = tf.image.decode_image(img, channels=3)\n",
    "    #img = tf.image.resize(img, (224, 224))  # Adjust the size as needed\n",
    "    img = tf.cast(img, tf.float32) / 255.0  # Normalize pixel values to [0, 1]\n",
    "    return img, label\n"
   ]
  },
  {
   "cell_type": "code",
   "execution_count": 6,
   "id": "8c29dcff-2e9e-427c-b2c9-63a8eb5e1261",
   "metadata": {
    "tags": []
   },
   "outputs": [],
   "source": [
    "# Create TensorFlow datasets\n",
    "train_dataset = tf.data.Dataset.from_tensor_slices((train_files, train_labels))\n",
    "train_dataset = train_dataset.map(preprocess_image)\n",
    "train_dataset = train_dataset.shuffle(buffer_size=10000).batch(batch_size=32)\n",
    "\n",
    "test_dataset = tf.data.Dataset.from_tensor_slices((test_files, test_labels))\n",
    "test_dataset = test_dataset.map(preprocess_image)\n",
    "test_dataset = test_dataset.batch(batch_size=32)\n"
   ]
  },
  {
   "cell_type": "code",
   "execution_count": 7,
   "id": "d2426744-628e-4c5d-b0d9-0fb3a6cc8ad5",
   "metadata": {
    "tags": []
   },
   "outputs": [
    {
     "name": "stdout",
     "output_type": "stream",
     "text": [
      "WARNING:tensorflow:From C:\\Users\\Szirm\\miniconda3\\lib\\site-packages\\keras\\src\\backend.py:873: The name tf.get_default_graph is deprecated. Please use tf.compat.v1.get_default_graph instead.\n",
      "\n",
      "WARNING:tensorflow:From C:\\Users\\Szirm\\miniconda3\\lib\\site-packages\\keras\\src\\layers\\pooling\\max_pooling2d.py:161: The name tf.nn.max_pool is deprecated. Please use tf.nn.max_pool2d instead.\n",
      "\n",
      "WARNING:tensorflow:From C:\\Users\\Szirm\\miniconda3\\lib\\site-packages\\keras\\src\\optimizers\\__init__.py:309: The name tf.train.Optimizer is deprecated. Please use tf.compat.v1.train.Optimizer instead.\n",
      "\n",
      "Model: \"sequential\"\n",
      "_________________________________________________________________\n",
      " Layer (type)                Output Shape              Param #   \n",
      "=================================================================\n",
      " conv2d (Conv2D)             (None, 62, 62, 32)        896       \n",
      "                                                                 \n",
      " max_pooling2d (MaxPooling2  (None, 31, 31, 32)        0         \n",
      " D)                                                              \n",
      "                                                                 \n",
      " conv2d_1 (Conv2D)           (None, 29, 29, 64)        18496     \n",
      "                                                                 \n",
      " max_pooling2d_1 (MaxPoolin  (None, 14, 14, 64)        0         \n",
      " g2D)                                                            \n",
      "                                                                 \n",
      " conv2d_2 (Conv2D)           (None, 12, 12, 128)       73856     \n",
      "                                                                 \n",
      " max_pooling2d_2 (MaxPoolin  (None, 6, 6, 128)         0         \n",
      " g2D)                                                            \n",
      "                                                                 \n",
      " flatten (Flatten)           (None, 4608)              0         \n",
      "                                                                 \n",
      " dense (Dense)               (None, 128)               589952    \n",
      "                                                                 \n",
      " dense_1 (Dense)             (None, 5)                 645       \n",
      "                                                                 \n",
      "=================================================================\n",
      "Total params: 683845 (2.61 MB)\n",
      "Trainable params: 683845 (2.61 MB)\n",
      "Non-trainable params: 0 (0.00 Byte)\n",
      "_________________________________________________________________\n"
     ]
    }
   ],
   "source": [
    "# Define the model\n",
    "model = Sequential()\n",
    "model.add(layers.Conv2D(32, (3, 3), activation='relu', input_shape=(64, 64, 3)))\n",
    "model.add(layers.MaxPooling2D((2, 2)))\n",
    "model.add(layers.Conv2D(64, (3, 3), activation='relu'))\n",
    "model.add(layers.MaxPooling2D((2, 2)))\n",
    "model.add(layers.Conv2D(128, (3, 3), activation='relu'))\n",
    "model.add(layers.MaxPooling2D((2, 2)))\n",
    "model.add(layers.Flatten())\n",
    "model.add(Dense(128, activation='relu'))\n",
    "model.add(layers.Dense(5, activation='softmax'))\n",
    "\n",
    "\n",
    "\n",
    "# Compile the model\n",
    "model.compile(optimizer='adam',\n",
    "              loss='binary_crossentropy',\n",
    "              metrics=['accuracy'])\n",
    "model. summary()"
   ]
  },
  {
   "cell_type": "code",
   "execution_count": 8,
   "id": "24d0500b-db28-4ce7-8075-fa3a32f89fb6",
   "metadata": {
    "tags": []
   },
   "outputs": [
    {
     "name": "stdout",
     "output_type": "stream",
     "text": [
      "Epoch 1/10\n",
      "WARNING:tensorflow:From C:\\Users\\Szirm\\miniconda3\\lib\\site-packages\\keras\\src\\utils\\tf_utils.py:492: The name tf.ragged.RaggedTensorValue is deprecated. Please use tf.compat.v1.ragged.RaggedTensorValue instead.\n",
      "\n",
      "WARNING:tensorflow:From C:\\Users\\Szirm\\miniconda3\\lib\\site-packages\\keras\\src\\engine\\base_layer_utils.py:384: The name tf.executing_eagerly_outside_functions is deprecated. Please use tf.compat.v1.executing_eagerly_outside_functions instead.\n",
      "\n",
      "19/19 [==============================] - 3s 72ms/step - loss: 0.4847 - accuracy: 0.4033 - val_loss: 0.4447 - val_accuracy: 0.4133\n",
      "Epoch 2/10\n",
      "19/19 [==============================] - 1s 61ms/step - loss: 0.4347 - accuracy: 0.4717 - val_loss: 0.4212 - val_accuracy: 0.5200\n",
      "Epoch 3/10\n",
      "19/19 [==============================] - 2s 73ms/step - loss: 0.4101 - accuracy: 0.5433 - val_loss: 0.3680 - val_accuracy: 0.6400\n",
      "Epoch 4/10\n",
      "19/19 [==============================] - 2s 71ms/step - loss: 0.3692 - accuracy: 0.6033 - val_loss: 0.3493 - val_accuracy: 0.6600\n",
      "Epoch 5/10\n",
      "19/19 [==============================] - 2s 67ms/step - loss: 0.3218 - accuracy: 0.6567 - val_loss: 0.3382 - val_accuracy: 0.6333\n",
      "Epoch 6/10\n",
      "19/19 [==============================] - 1s 61ms/step - loss: 0.3003 - accuracy: 0.6733 - val_loss: 0.2948 - val_accuracy: 0.7133\n",
      "Epoch 7/10\n",
      "19/19 [==============================] - 1s 66ms/step - loss: 0.2771 - accuracy: 0.7200 - val_loss: 0.3267 - val_accuracy: 0.6533\n",
      "Epoch 8/10\n",
      "19/19 [==============================] - 1s 62ms/step - loss: 0.2600 - accuracy: 0.7417 - val_loss: 0.2864 - val_accuracy: 0.7133\n",
      "Epoch 9/10\n",
      "19/19 [==============================] - 1s 59ms/step - loss: 0.2336 - accuracy: 0.7633 - val_loss: 0.2785 - val_accuracy: 0.7400\n",
      "Epoch 10/10\n",
      "19/19 [==============================] - 1s 57ms/step - loss: 0.2143 - accuracy: 0.7767 - val_loss: 0.2815 - val_accuracy: 0.6867\n"
     ]
    },
    {
     "data": {
      "text/plain": [
       "<keras.src.callbacks.History at 0x2015af374f0>"
      ]
     },
     "execution_count": 8,
     "metadata": {},
     "output_type": "execute_result"
    }
   ],
   "source": [
    "# Train the model\n",
    "model.fit(train_dataset, epochs=10, validation_data=test_dataset)"
   ]
  },
  {
   "cell_type": "code",
   "execution_count": 9,
   "id": "03a0fab6-af73-4fe8-8466-85c87b292586",
   "metadata": {
    "tags": []
   },
   "outputs": [
    {
     "name": "stdout",
     "output_type": "stream",
     "text": [
      "5/5 [==============================] - 0s 19ms/step\n",
      "[0 0 4 4 0 0 4 0 0 4 4 2 0 0 4 2 0 3 0 2 2 4 2 4 1 0 0 4 0 0 4 1 2 0 4 0 4\n",
      " 4 4 2 4 4 4 0 0 3 4 4 3 0 0 4 3 2 1 0 0 4 0 2 0 2 0 0 1 4 4 4 4 4 0 0 4 0\n",
      " 2 4 4 0 4 4 0 3 4 0 0 3 1 2 0 0 0 4 0 4 3 2 0 0 4 3 2 4 3 3 2 4 4 4 4 0 4\n",
      " 0 4 0 2 1 0 0 0 3 0 0 3 4 2 0 0 0 3 0 4 4 4 4 0 4 0 4 0 1 3 0 4 2 3 0 0 4\n",
      " 0 4]\n",
      "[[7.87752390e-01 1.83085091e-02 1.93428949e-01 1.87945348e-04\n",
      "  3.22179316e-04]\n",
      " [8.42011094e-01 7.41100237e-02 6.27316535e-02 1.38179827e-02\n",
      "  7.32922927e-03]\n",
      " [5.15638525e-03 4.55012135e-02 1.91093057e-01 1.72803238e-01\n",
      "  5.85446060e-01]\n",
      " [2.81162374e-03 2.26931693e-03 2.02596840e-02 1.18585102e-01\n",
      "  8.56074333e-01]\n",
      " [9.90656435e-01 7.73992762e-03 5.43608272e-04 1.02645287e-03\n",
      "  3.36525809e-05]\n",
      " [8.64661634e-01 9.18716416e-02 2.38963589e-02 1.77337509e-02\n",
      "  1.83664891e-03]\n",
      " [1.90405559e-03 1.13085681e-03 4.86272387e-03 2.71627959e-03\n",
      "  9.89386082e-01]\n",
      " [9.85495865e-01 9.39394068e-03 1.27210619e-03 3.60056944e-03\n",
      "  2.37520901e-04]\n",
      " [8.39756131e-01 4.57015485e-02 7.53947347e-02 1.79877430e-02\n",
      "  2.11598109e-02]\n",
      " [2.32099950e-01 3.21439328e-03 2.94837691e-02 1.74005125e-02\n",
      "  7.17801332e-01]\n",
      " [3.71455593e-04 2.60634552e-04 1.43840513e-03 3.16622667e-03\n",
      "  9.94763315e-01]\n",
      " [7.01970011e-02 2.26067811e-01 5.16180217e-01 1.45036817e-01\n",
      "  4.25181687e-02]\n",
      " [8.68812025e-01 7.15256482e-02 5.38683683e-02 1.05423678e-03\n",
      "  4.73965006e-03]\n",
      " [9.89837766e-01 1.87429402e-03 6.03053346e-03 2.00955477e-03\n",
      "  2.47843564e-04]\n",
      " [3.38675483e-04 3.04513756e-04 4.25979402e-03 1.86153001e-03\n",
      "  9.93235528e-01]\n",
      " [3.32816131e-02 5.05789295e-02 7.07393885e-01 1.22837625e-01\n",
      "  8.59079137e-02]\n",
      " [9.72802043e-01 1.43861948e-02 4.32215817e-03 6.66962843e-03\n",
      "  1.82003062e-03]\n",
      " [1.42253190e-01 2.02583522e-01 2.31761217e-01 2.95639277e-01\n",
      "  1.27762765e-01]\n",
      " [2.70869523e-01 2.00056359e-01 1.12954654e-01 2.46144295e-01\n",
      "  1.69975162e-01]\n",
      " [8.33966136e-02 1.39940288e-02 6.98010623e-01 1.35020196e-01\n",
      "  6.95785135e-02]\n",
      " [1.29371062e-01 2.45605767e-01 4.01530325e-01 1.46406963e-01\n",
      "  7.70858228e-02]\n",
      " [3.59121012e-04 1.10478676e-03 2.30368134e-03 2.67115086e-02\n",
      "  9.69520926e-01]\n",
      " [1.18247621e-01 2.95036823e-01 5.01840234e-01 5.43803498e-02\n",
      "  3.04949209e-02]\n",
      " [2.03027841e-04 1.93324478e-04 2.87809758e-03 9.45033580e-02\n",
      "  9.02222157e-01]\n",
      " [2.13432536e-01 4.16681021e-01 3.03088695e-01 5.15973456e-02\n",
      "  1.52004333e-02]\n",
      " [8.81218314e-01 7.50266984e-02 1.41166048e-02 2.35273261e-02\n",
      "  6.11107098e-03]\n",
      " [3.90550077e-01 1.40294611e-01 2.71938760e-02 1.97447419e-01\n",
      "  2.44514018e-01]\n",
      " [7.96976237e-05 2.28649005e-04 4.00737720e-03 2.09000539e-02\n",
      "  9.74784195e-01]\n",
      " [8.11774611e-01 1.32691741e-01 3.73629704e-02 1.57620516e-02\n",
      "  2.40859110e-03]\n",
      " [7.91762054e-01 1.23640791e-01 3.30065228e-02 1.89018603e-02\n",
      "  3.26888040e-02]\n",
      " [5.55520062e-04 1.13200275e-02 9.95584950e-03 6.96856715e-03\n",
      "  9.71200109e-01]\n",
      " [7.88575783e-02 8.80450070e-01 3.74677256e-02 2.29622307e-03\n",
      "  9.28290188e-04]\n",
      " [4.54916731e-02 5.95094003e-02 3.78435433e-01 2.39845783e-01\n",
      "  2.76717663e-01]\n",
      " [3.84887516e-01 2.50521332e-01 3.61950658e-02 1.92177460e-01\n",
      "  1.36218637e-01]\n",
      " [1.10163186e-02 2.63394956e-02 1.22121893e-01 1.09085344e-01\n",
      "  7.31436968e-01]\n",
      " [9.98547494e-01 1.03228108e-03 2.39782021e-04 1.74058267e-04\n",
      "  6.46477929e-06]\n",
      " [2.56116502e-03 6.91561261e-03 7.13733733e-02 4.00880575e-02\n",
      "  8.79061878e-01]\n",
      " [4.67272679e-04 1.21743523e-03 6.85725501e-03 2.67791329e-03\n",
      "  9.88780141e-01]\n",
      " [4.67830250e-04 1.59562263e-03 1.84791768e-03 6.43232837e-03\n",
      "  9.89656448e-01]\n",
      " [1.58260018e-01 1.08586244e-01 6.10718489e-01 1.17512140e-02\n",
      "  1.10684067e-01]\n",
      " [2.40785062e-06 2.84464340e-06 3.07741975e-05 7.09479908e-04\n",
      "  9.99254525e-01]\n",
      " [3.50130171e-01 4.32977751e-02 6.12655915e-02 1.55919731e-01\n",
      "  3.89386714e-01]\n",
      " [6.07886678e-03 5.14107477e-03 7.85485283e-03 1.24899000e-01\n",
      "  8.56026173e-01]\n",
      " [5.07173121e-01 2.42293149e-01 2.34960452e-01 1.20860571e-02\n",
      "  3.48724215e-03]\n",
      " [7.37001956e-01 5.92492186e-02 1.46481216e-01 5.05099148e-02\n",
      "  6.75764540e-03]\n",
      " [3.45063433e-02 3.73967662e-02 4.62562144e-02 7.95139849e-01\n",
      "  8.67008343e-02]\n",
      " [1.37388342e-04 4.28005267e-04 9.72767174e-03 4.65736538e-02\n",
      "  9.43133235e-01]\n",
      " [1.37316389e-02 1.88529002e-03 5.52007789e-03 3.06107034e-03\n",
      "  9.75801885e-01]\n",
      " [1.80617943e-01 7.67971948e-02 1.64638743e-01 3.25013220e-01\n",
      "  2.52932906e-01]\n",
      " [5.51644325e-01 1.69563890e-01 2.72695422e-01 3.63720814e-03\n",
      "  2.45918008e-03]\n",
      " [5.99693775e-01 1.40740782e-01 2.22188234e-01 2.68130209e-02\n",
      "  1.05642015e-02]\n",
      " [1.05820065e-02 3.02932560e-02 2.19055619e-02 1.26412055e-02\n",
      "  9.24577951e-01]\n",
      " [2.10887976e-02 1.89229660e-02 5.47321960e-02 8.30956578e-01\n",
      "  7.42994323e-02]\n",
      " [4.76652458e-02 2.67364066e-02 8.48220646e-01 1.88813843e-02\n",
      "  5.84962741e-02]\n",
      " [2.31035277e-01 3.01661402e-01 2.26671457e-01 1.51937455e-01\n",
      "  8.86944607e-02]\n",
      " [3.86283338e-01 2.70532429e-01 4.07755859e-02 2.26019576e-01\n",
      "  7.63890594e-02]\n",
      " [9.96825814e-01 2.16172403e-03 6.19873812e-04 3.17560072e-04\n",
      "  7.50574327e-05]\n",
      " [2.09976919e-03 4.83716931e-03 3.68308835e-02 1.15845256e-01\n",
      "  8.40386868e-01]\n",
      " [8.65441382e-01 6.08584844e-02 3.62110212e-02 3.05156391e-02\n",
      "  6.97350455e-03]\n",
      " [5.42912297e-02 1.62236378e-01 7.10921526e-01 3.52691524e-02\n",
      "  3.72817367e-02]\n",
      " [8.95918608e-01 8.27948563e-04 2.51584277e-02 5.14326245e-02\n",
      "  2.66623162e-02]\n",
      " [1.59321412e-01 1.74372554e-01 5.98815262e-01 5.06370403e-02\n",
      "  1.68537442e-02]\n",
      " [5.08078754e-01 5.23157716e-02 4.17797893e-01 1.50954090e-02\n",
      "  6.71223132e-03]\n",
      " [8.03125322e-01 1.05066262e-01 5.84562346e-02 1.88285969e-02\n",
      "  1.45235229e-02]\n",
      " [1.84153602e-01 7.42369950e-01 3.05848736e-02 2.40045208e-02\n",
      "  1.88870747e-02]\n",
      " [5.75488866e-06 3.80989150e-06 2.89757099e-05 1.54937254e-04\n",
      "  9.99806583e-01]\n",
      " [8.96118174e-04 4.07162914e-03 1.68797486e-02 1.50268544e-02\n",
      "  9.63125706e-01]\n",
      " [3.25958505e-02 1.11740954e-01 1.32423505e-01 2.73696005e-01\n",
      "  4.49543715e-01]\n",
      " [8.66717368e-04 6.17135176e-03 2.82653645e-02 7.88837671e-03\n",
      "  9.56808150e-01]\n",
      " [7.97643792e-03 8.57886486e-03 4.85319905e-02 2.98787206e-02\n",
      "  9.05034006e-01]\n",
      " [9.96778786e-01 1.91264180e-03 3.68895591e-04 8.16095388e-04\n",
      "  1.23553225e-04]\n",
      " [9.44314659e-01 1.46110943e-02 3.08352057e-02 2.77525955e-03\n",
      "  7.46370619e-03]\n",
      " [5.53509562e-05 5.97598009e-05 1.87203917e-03 2.22932827e-03\n",
      "  9.95783567e-01]\n",
      " [9.91410434e-01 6.15937728e-03 2.02449271e-03 2.13453211e-04\n",
      "  1.92336593e-04]\n",
      " [7.32844099e-02 7.92684108e-02 7.78621376e-01 3.50619964e-02\n",
      "  3.37638631e-02]\n",
      " [5.73258661e-02 4.62977157e-04 1.90651347e-03 5.76328672e-02\n",
      "  8.82671773e-01]\n",
      " [1.61494818e-02 1.67831555e-02 5.10453284e-02 7.61877447e-02\n",
      "  8.39834154e-01]\n",
      " [9.93522227e-01 3.46568809e-03 2.56703841e-03 2.52132129e-04\n",
      "  1.92963678e-04]\n",
      " [2.24240988e-01 1.24640509e-01 3.42545658e-02 6.65358081e-02\n",
      "  5.50328076e-01]\n",
      " [1.86593403e-04 6.11334457e-04 1.11540798e-02 3.38024683e-02\n",
      "  9.54245508e-01]\n",
      " [8.73657286e-01 1.01919003e-01 1.65963676e-02 5.28913364e-03\n",
      "  2.53821188e-03]\n",
      " [6.09528534e-02 8.58948380e-02 3.92861255e-02 6.87812209e-01\n",
      "  1.26053929e-01]\n",
      " [1.52168628e-02 1.38984313e-02 3.38229313e-02 1.31682754e-01\n",
      "  8.05379033e-01]\n",
      " [9.64549422e-01 1.27183618e-02 5.81830880e-03 1.34472009e-02\n",
      "  3.46675771e-03]\n",
      " [9.45980966e-01 1.54777095e-02 3.59709412e-02 1.63800060e-03\n",
      "  9.32416355e-04]\n",
      " [6.90812171e-02 1.50079221e-01 1.83213741e-01 3.10977072e-01\n",
      "  2.86648780e-01]\n",
      " [4.62256521e-01 4.90029991e-01 3.34577970e-02 1.03810485e-02\n",
      "  3.87466373e-03]\n",
      " [3.95270064e-02 1.21725813e-01 4.21230078e-01 2.51332998e-01\n",
      "  1.66184083e-01]\n",
      " [6.99942112e-01 1.47635266e-01 1.43050402e-01 2.70184036e-03\n",
      "  6.67036371e-03]\n",
      " [3.74822944e-01 2.92080641e-01 4.54917438e-02 2.08122909e-01\n",
      "  7.94816762e-02]\n",
      " [9.98498082e-01 3.63179541e-04 1.10826723e-03 2.37099848e-05\n",
      "  6.73204613e-06]\n",
      " [1.83828315e-03 4.94011678e-03 4.12521288e-02 4.35448028e-02\n",
      "  9.08424675e-01]\n",
      " [8.87484848e-01 1.03844598e-01 7.16318609e-03 6.44784945e-04\n",
      "  8.62510176e-04]\n",
      " [3.40159522e-06 2.17161710e-06 2.86459581e-05 2.16932996e-04\n",
      "  9.99748886e-01]\n",
      " [1.20205007e-01 4.50976156e-02 1.56156439e-02 8.10843408e-01\n",
      "  8.23836215e-03]\n",
      " [1.59390830e-02 1.30587161e-01 4.71686900e-01 1.93217218e-01\n",
      "  1.88569665e-01]\n",
      " [3.89651507e-01 2.41769999e-01 3.12063366e-01 4.34789397e-02\n",
      "  1.30361868e-02]\n",
      " [9.52792406e-01 2.36323345e-02 1.27254073e-02 8.17786343e-03\n",
      "  2.67207925e-03]\n",
      " [6.78714074e-04 7.74785294e-04 6.92394271e-04 4.79154959e-02\n",
      "  9.49938536e-01]\n",
      " [8.69985744e-02 1.64806634e-01 5.49033396e-02 5.60815871e-01\n",
      "  1.32475585e-01]\n",
      " [1.33534567e-02 1.05358306e-02 7.54737735e-01 7.48949312e-03\n",
      "  2.13883489e-01]\n",
      " [2.84893031e-04 6.79753954e-04 1.16934981e-02 4.56126668e-02\n",
      "  9.41729188e-01]\n",
      " [7.58595541e-02 3.25476289e-01 8.21816325e-02 4.68902171e-01\n",
      "  4.75803576e-02]\n",
      " [1.77363262e-01 7.80748203e-02 1.64166182e-01 3.26742083e-01\n",
      "  2.53653675e-01]\n",
      " [4.39013809e-01 6.14646412e-02 4.60032254e-01 2.68773735e-02\n",
      "  1.26118595e-02]\n",
      " [4.38562874e-03 3.61447525e-03 2.33075283e-02 1.87513158e-01\n",
      "  7.81179249e-01]\n",
      " [3.10465624e-03 2.85939476e-03 8.29319656e-03 9.69988182e-02\n",
      "  8.88743937e-01]\n",
      " [6.94426092e-07 2.43801014e-06 5.22704649e-05 8.78414197e-04\n",
      "  9.99066174e-01]\n",
      " [2.54176736e-01 1.21910296e-01 4.50141802e-02 2.76541263e-01\n",
      "  3.02357525e-01]\n",
      " [9.13407564e-01 8.93500168e-03 7.00024366e-02 5.91008691e-03\n",
      "  1.74493203e-03]\n",
      " [1.76861838e-01 1.61442868e-02 1.39822230e-01 1.11636080e-01\n",
      "  5.55535495e-01]\n",
      " [9.12497699e-01 2.82023326e-02 5.43166958e-02 2.95494613e-03\n",
      "  2.02837680e-03]\n",
      " [7.87656531e-02 5.75632080e-02 9.26376134e-02 2.08452925e-01\n",
      "  5.62580585e-01]\n",
      " [6.79115415e-01 2.13203952e-01 9.93704572e-02 6.22945838e-03\n",
      "  2.08076322e-03]\n",
      " [1.60075337e-01 2.58941025e-01 4.16296691e-01 1.20599926e-01\n",
      "  4.40870263e-02]\n",
      " [1.61138758e-01 8.08730245e-01 1.48147400e-02 1.08907260e-02\n",
      "  4.42550378e-03]\n",
      " [5.32696307e-01 7.02309757e-02 3.96765530e-01 2.67204246e-04\n",
      "  4.00073695e-05]\n",
      " [9.70733941e-01 2.51148287e-02 3.91749525e-03 2.16089451e-04\n",
      "  1.76821522e-05]\n",
      " [7.33764946e-01 1.09448880e-01 1.24205306e-01 2.39873305e-02\n",
      "  8.59354157e-03]\n",
      " [3.66401136e-01 5.29264621e-02 7.39696026e-02 4.00122106e-01\n",
      "  1.06580667e-01]\n",
      " [7.62922287e-01 1.27802983e-01 9.62267146e-02 9.46861506e-03\n",
      "  3.57942050e-03]\n",
      " [8.18129241e-01 1.03373058e-01 6.66045249e-02 1.12286005e-02\n",
      "  6.64583873e-04]\n",
      " [1.73787504e-01 1.51873782e-01 2.97239035e-01 3.24242383e-01\n",
      "  5.28573692e-02]\n",
      " [3.94255068e-04 5.32486010e-04 2.59793946e-03 7.07833562e-03\n",
      "  9.89396930e-01]\n",
      " [3.80650967e-01 1.04823587e-02 6.04055166e-01 3.51962098e-03\n",
      "  1.29191286e-03]\n",
      " [9.86262083e-01 8.89813900e-03 3.37245595e-03 1.17319822e-03\n",
      "  2.94145633e-04]\n",
      " [5.66267133e-01 9.87685546e-02 8.95909220e-03 1.16385579e-01\n",
      "  2.09619552e-01]\n",
      " [8.28204811e-01 5.41662537e-02 7.35581815e-02 2.19863094e-02\n",
      "  2.20844690e-02]\n",
      " [1.18704371e-01 1.18384250e-01 2.00155601e-01 5.21036804e-01\n",
      "  4.17189151e-02]\n",
      " [9.97342288e-01 1.53447781e-03 2.94765574e-04 8.00063892e-04\n",
      "  2.84563630e-05]\n",
      " [8.59842548e-05 1.53790883e-04 1.42874115e-03 9.52667464e-03\n",
      "  9.88804877e-01]\n",
      " [2.95568989e-05 6.71021262e-05 5.18825487e-04 1.75246131e-02\n",
      "  9.81859863e-01]\n",
      " [1.34621179e-04 1.30074433e-04 3.27415066e-03 2.46186517e-02\n",
      "  9.71842587e-01]\n",
      " [5.72285913e-02 2.27039158e-02 1.90954152e-02 5.94203323e-02\n",
      "  8.41551721e-01]\n",
      " [7.37968862e-01 1.52696803e-01 7.66635388e-02 3.01561859e-02\n",
      "  2.51449528e-03]\n",
      " [3.08359810e-03 5.75458668e-02 8.34117644e-03 9.59852263e-02\n",
      "  8.35044146e-01]\n",
      " [8.25055242e-01 1.26254737e-01 1.82049666e-02 1.55881494e-02\n",
      "  1.48969237e-02]\n",
      " [2.69174902e-03 1.74190328e-02 1.26556475e-02 3.95985544e-02\n",
      "  9.27635014e-01]\n",
      " [9.83606219e-01 1.23918513e-02 3.61694954e-03 2.56688712e-04\n",
      "  1.28228799e-04]\n",
      " [9.14273113e-02 5.11013448e-01 9.43301304e-04 2.04340205e-01\n",
      "  1.92275703e-01]\n",
      " [1.02703258e-01 1.81907758e-01 1.77011982e-01 4.90837663e-01\n",
      "  4.75393534e-02]\n",
      " [9.52777982e-01 2.28237305e-02 2.32681762e-02 9.37704637e-04\n",
      "  1.92391351e-04]\n",
      " [8.77980201e-04 9.90909338e-03 1.13534816e-02 4.78159525e-02\n",
      "  9.30043459e-01]\n",
      " [5.93512207e-02 1.80075109e-01 6.77546442e-01 3.24615166e-02\n",
      "  5.05657233e-02]\n",
      " [3.22310515e-02 3.85716036e-02 4.76054177e-02 7.41296470e-01\n",
      "  1.40295461e-01]\n",
      " [3.96696448e-01 3.93200010e-01 1.94434553e-01 3.79200769e-03\n",
      "  1.18770376e-02]\n",
      " [9.12833571e-01 2.06157211e-02 1.14220958e-02 4.97778095e-02\n",
      "  5.35084121e-03]\n",
      " [3.73476068e-03 7.80353602e-03 1.54525405e-02 1.29355863e-01\n",
      "  8.43653262e-01]\n",
      " [9.85236526e-01 1.02696074e-02 2.28896667e-03 2.00147089e-03\n",
      "  2.03383752e-04]\n",
      " [4.04612620e-05 2.21948358e-04 7.76873995e-03 1.15994625e-02\n",
      "  9.80369389e-01]]\n"
     ]
    }
   ],
   "source": [
    "# predict probabilities for test set\n",
    "predictions_raw = model.predict(test_dataset)\n",
    "# predict crisp classes for test set\n",
    "predicted_classes = np.argmax(predictions_raw, axis=1)\n",
    "# reduce to 1d array\n",
    "predictions_raw\n",
    "print(predicted_classes)\n",
    "print(predictions_raw)"
   ]
  },
  {
   "cell_type": "code",
   "execution_count": 10,
   "id": "73398486-8345-4b1d-9f5e-54de9e442dda",
   "metadata": {
    "tags": []
   },
   "outputs": [
    {
     "name": "stdout",
     "output_type": "stream",
     "text": [
      "5/5 [==============================] - 0s 23ms/step - loss: 0.2815 - accuracy: 0.6867\n",
      "Test accuracy: 0.6866666674613953\n"
     ]
    }
   ],
   "source": [
    "# Evaluate the model\n",
    "test_loss, test_acc = model.evaluate(test_dataset)\n",
    "print(f'Test accuracy: {test_acc}')\n"
   ]
  },
  {
   "cell_type": "code",
   "execution_count": 11,
   "id": "894d1ace-1150-4e33-a360-dbb389b000de",
   "metadata": {
    "tags": []
   },
   "outputs": [],
   "source": [
    "test_labels = np.argmax(test_labels+1, axis=1)"
   ]
  },
  {
   "cell_type": "code",
   "execution_count": 12,
   "id": "ac84baef-ece4-463e-a6f9-6bb29eb3e182",
   "metadata": {},
   "outputs": [
    {
     "name": "stdout",
     "output_type": "stream",
     "text": [
      "[0 0 4 4 0 0 4 0 0 2 4 2 0 0 4 4 0 2 2 3 4 4 1 4 3 0 3 4 0 0 4 1 4 4 3 0 4\n",
      " 4 4 3 4 3 4 0 0 3 4 4 3 0 0 2 0 4 3 1 0 3 1 2 0 1 1 2 1 4 4 4 4 4 0 2 4 0\n",
      " 1 4 4 0 4 4 0 4 4 4 0 4 0 2 2 1 0 4 1 4 3 4 0 0 4 4 4 4 1 4 0 4 4 4 4 0 4\n",
      " 0 4 0 4 1 0 0 0 4 0 0 4 4 0 0 1 0 3 0 4 4 4 4 0 4 0 4 0 3 3 0 4 1 3 1 0 4\n",
      " 0 4]\n",
      "[0 0 4 4 0 0 4 0 0 4 4 2 0 0 4 2 0 3 0 2 2 4 2 4 1 0 0 4 0 0 4 1 2 0 4 0 4\n",
      " 4 4 2 4 4 4 0 0 3 4 4 3 0 0 4 3 2 1 0 0 4 0 2 0 2 0 0 1 4 4 4 4 4 0 0 4 0\n",
      " 2 4 4 0 4 4 0 3 4 0 0 3 1 2 0 0 0 4 0 4 3 2 0 0 4 3 2 4 3 3 2 4 4 4 4 0 4\n",
      " 0 4 0 2 1 0 0 0 3 0 0 3 4 2 0 0 0 3 0 4 4 4 4 0 4 0 4 0 1 3 0 4 2 3 0 0 4\n",
      " 0 4]\n"
     ]
    }
   ],
   "source": [
    "print(test_labels)\n",
    "print(predicted_classes)"
   ]
  },
  {
   "cell_type": "code",
   "execution_count": 13,
   "id": "ca57cfc8-5597-48a8-8ae0-64355421aa38",
   "metadata": {
    "tags": []
   },
   "outputs": [],
   "source": [
    "precision = precision_score(test_labels, predicted_classes, average='weighted')\n",
    "recall = recall_score(test_labels, predicted_classes, average='weighted')\n",
    "f1 = f1_score(test_labels, predicted_classes, average='weighted')"
   ]
  },
  {
   "cell_type": "code",
   "execution_count": 14,
   "id": "e69f0586-ddbd-4cc4-b7db-2c2bf34df419",
   "metadata": {
    "tags": []
   },
   "outputs": [
    {
     "name": "stdout",
     "output_type": "stream",
     "text": [
      "0.7103166182476527\n",
      "0.6866666666666666\n",
      "0.6880375323672245\n"
     ]
    }
   ],
   "source": [
    "print(precision)\n",
    "print(recall)\n",
    "print(f1)"
   ]
  },
  {
   "cell_type": "code",
   "execution_count": 15,
   "id": "31759ae5-ad7a-4c45-8595-1a44ab25e4df",
   "metadata": {
    "tags": []
   },
   "outputs": [
    {
     "name": "stdout",
     "output_type": "stream",
     "text": [
      "Cohen's Kappa: 0.5588787385809035\n"
     ]
    }
   ],
   "source": [
    "kappa = cohen_kappa_score(test_labels, predicted_classes)\n",
    "print(f'Cohen\\'s Kappa: {kappa}')"
   ]
  },
  {
   "cell_type": "code",
   "execution_count": 16,
   "id": "c579c1e4-2af1-4b95-af04-8875b4cbe1e9",
   "metadata": {
    "tags": []
   },
   "outputs": [
    {
     "name": "stdout",
     "output_type": "stream",
     "text": [
      "Confusion Matrix:\n",
      "[[44  1  2  1  0]\n",
      " [ 7  3  4  1  0]\n",
      " [ 4  0  3  1  2]\n",
      " [ 1  3  2  6  3]\n",
      " [ 2  0  7  6 47]]\n"
     ]
    }
   ],
   "source": [
    "cm = confusion_matrix(test_labels, predicted_classes)\n",
    "print(f'Confusion Matrix:\\n{cm}')"
   ]
  },
  {
   "cell_type": "code",
   "execution_count": 17,
   "id": "a88200b3-3cf7-4062-bd42-16a3401541e2",
   "metadata": {
    "tags": []
   },
   "outputs": [],
   "source": [
    "y_true_binarized = label_binarize(test_labels, classes=np.unique(test_labels))"
   ]
  },
  {
   "cell_type": "code",
   "execution_count": 18,
   "id": "735900af-5871-4d19-b408-0976bcd84a2a",
   "metadata": {
    "tags": []
   },
   "outputs": [],
   "source": [
    "roc_auc_scores = []"
   ]
  },
  {
   "cell_type": "code",
   "execution_count": 19,
   "id": "0e00fe80-49c3-4a23-abb1-697fb1151341",
   "metadata": {
    "tags": []
   },
   "outputs": [],
   "source": [
    "for i in range(np.max(test_labels) + 1):  # Assuming class labels start from 0\n",
    "    roc_auc_scores.append(roc_auc_score(y_true_binarized[:, i], predictions_raw[:, i]))"
   ]
  },
  {
   "cell_type": "code",
   "execution_count": 20,
   "id": "022409a5-a2c5-4000-a802-3771472ddac8",
   "metadata": {
    "tags": []
   },
   "outputs": [
    {
     "name": "stdout",
     "output_type": "stream",
     "text": [
      "ROC AUC Scores for Each Class: [0.957720588235294, 0.8716049382716049, 0.7192857142857143, 0.8538271604938272, 0.9492302052785924]\n"
     ]
    }
   ],
   "source": [
    "print(f'ROC AUC Scores for Each Class: {roc_auc_scores}')"
   ]
  },
  {
   "cell_type": "code",
   "execution_count": 21,
   "id": "69dc0d76-7866-4f82-b9cf-0edc2db78c7d",
   "metadata": {
    "tags": []
   },
   "outputs": [
    {
     "data": {
      "image/png": "[encoded data removed]",
      "text/plain": [
       "<Figure size 800x600 with 2 Axes>"
      ]
     },
     "metadata": {},
     "output_type": "display_data"
    }
   ],
   "source": [
    "plt.figure(figsize=(8, 6))\n",
    "sns.heatmap(cm, annot=True, fmt='d', cmap='Blues', xticklabels=[1, 2, 3, 4, 5], yticklabels=[1, 2, 3, 4, 5])\n",
    "plt.xlabel('Predicted Label')\n",
    "plt.ylabel('True Label')\n",
    "plt.title('Confusion Matrix')\n",
    "plt.show()"
   ]
  },
  {
   "cell_type": "code",
   "execution_count": null,
   "id": "5aab984c-6a92-4f9d-9948-778c6f27bfd0",
   "metadata": {},
   "outputs": [],
   "source": []
  }
 ],
 "metadata": {
  "kernelspec": {
   "display_name": "Python 3 (ipykernel)",
   "language": "python",
   "name": "python3"
  },
  "language_info": {
   "codemirror_mode": {
    "name": "ipython",
    "version": 3
   },
   "file_extension": ".py",
   "mimetype": "text/x-python",
   "name": "python",
   "nbconvert_exporter": "python",
   "pygments_lexer": "ipython3",
   "version": "3.11.7"
  }
 },
 "nbformat": 4,
 "nbformat_minor": 5
}
